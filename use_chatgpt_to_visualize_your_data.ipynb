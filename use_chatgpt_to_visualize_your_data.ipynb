{
 "cells": [
  {
   "cell_type": "markdown",
   "id": "peripheral-grammar",
   "metadata": {},
   "source": [
    "# Using ChatGPT to create visual representations of the data"
   ]
  },
  {
   "cell_type": "code",
   "execution_count": 1,
   "id": "duplicate-costume",
   "metadata": {},
   "outputs": [],
   "source": [
    "import pandas as pd\n",
    "import numpy as np\n",
    "import seaborn as sns"
   ]
  },
  {
   "cell_type": "code",
   "execution_count": null,
   "id": "bearing-buying",
   "metadata": {},
   "outputs": [],
   "source": []
  },
  {
   "cell_type": "markdown",
   "id": "sustainable-object",
   "metadata": {},
   "source": [
    "## Dummy data uploaded to ChatGPT"
   ]
  },
  {
   "cell_type": "code",
   "execution_count": 6,
   "id": "elder-bradford",
   "metadata": {},
   "outputs": [],
   "source": [
    "path = \"./resources/dummy_data.csv\"\n",
    "data = pd.read_csv(path)"
   ]
  },
  {
   "cell_type": "code",
   "execution_count": 3,
   "id": "directed-myrtle",
   "metadata": {},
   "outputs": [
    {
     "data": {
      "text/html": [
       "<div>\n",
       "<style scoped>\n",
       "    .dataframe tbody tr th:only-of-type {\n",
       "        vertical-align: middle;\n",
       "    }\n",
       "\n",
       "    .dataframe tbody tr th {\n",
       "        vertical-align: top;\n",
       "    }\n",
       "\n",
       "    .dataframe thead th {\n",
       "        text-align: right;\n",
       "    }\n",
       "</style>\n",
       "<table border=\"1\" class=\"dataframe\">\n",
       "  <thead>\n",
       "    <tr style=\"text-align: right;\">\n",
       "      <th></th>\n",
       "      <th>num_shots</th>\n",
       "      <th>model</th>\n",
       "      <th>run_id</th>\n",
       "      <th>accuracy</th>\n",
       "    </tr>\n",
       "  </thead>\n",
       "  <tbody>\n",
       "    <tr>\n",
       "      <th>0</th>\n",
       "      <td>2</td>\n",
       "      <td>A</td>\n",
       "      <td>1</td>\n",
       "      <td>0.289588</td>\n",
       "    </tr>\n",
       "    <tr>\n",
       "      <th>1</th>\n",
       "      <td>2</td>\n",
       "      <td>A</td>\n",
       "      <td>2</td>\n",
       "      <td>0.326426</td>\n",
       "    </tr>\n",
       "    <tr>\n",
       "      <th>2</th>\n",
       "      <td>2</td>\n",
       "      <td>A</td>\n",
       "      <td>3</td>\n",
       "      <td>0.128729</td>\n",
       "    </tr>\n",
       "    <tr>\n",
       "      <th>3</th>\n",
       "      <td>2</td>\n",
       "      <td>A</td>\n",
       "      <td>4</td>\n",
       "      <td>0.682322</td>\n",
       "    </tr>\n",
       "    <tr>\n",
       "      <th>4</th>\n",
       "      <td>2</td>\n",
       "      <td>A</td>\n",
       "      <td>5</td>\n",
       "      <td>0.299879</td>\n",
       "    </tr>\n",
       "    <tr>\n",
       "      <th>5</th>\n",
       "      <td>2</td>\n",
       "      <td>B</td>\n",
       "      <td>1</td>\n",
       "      <td>0.554652</td>\n",
       "    </tr>\n",
       "    <tr>\n",
       "      <th>6</th>\n",
       "      <td>2</td>\n",
       "      <td>B</td>\n",
       "      <td>2</td>\n",
       "      <td>0.752196</td>\n",
       "    </tr>\n",
       "    <tr>\n",
       "      <th>7</th>\n",
       "      <td>2</td>\n",
       "      <td>B</td>\n",
       "      <td>3</td>\n",
       "      <td>0.674190</td>\n",
       "    </tr>\n",
       "    <tr>\n",
       "      <th>8</th>\n",
       "      <td>2</td>\n",
       "      <td>B</td>\n",
       "      <td>4</td>\n",
       "      <td>0.648283</td>\n",
       "    </tr>\n",
       "    <tr>\n",
       "      <th>9</th>\n",
       "      <td>2</td>\n",
       "      <td>B</td>\n",
       "      <td>5</td>\n",
       "      <td>0.553891</td>\n",
       "    </tr>\n",
       "  </tbody>\n",
       "</table>\n",
       "</div>"
      ],
      "text/plain": [
       "   num_shots model  run_id  accuracy\n",
       "0          2     A       1  0.289588\n",
       "1          2     A       2  0.326426\n",
       "2          2     A       3  0.128729\n",
       "3          2     A       4  0.682322\n",
       "4          2     A       5  0.299879\n",
       "5          2     B       1  0.554652\n",
       "6          2     B       2  0.752196\n",
       "7          2     B       3  0.674190\n",
       "8          2     B       4  0.648283\n",
       "9          2     B       5  0.553891"
      ]
     },
     "execution_count": 3,
     "metadata": {},
     "output_type": "execute_result"
    }
   ],
   "source": [
    "data.head(n=10)"
   ]
  },
  {
   "cell_type": "code",
   "execution_count": null,
   "id": "pregnant-lodging",
   "metadata": {},
   "outputs": [],
   "source": []
  },
  {
   "cell_type": "markdown",
   "id": "voluntary-jenny",
   "metadata": {},
   "source": [
    "## Instruction to ChatGPT"
   ]
  },
  {
   "cell_type": "markdown",
   "id": "phantom-seminar",
   "metadata": {},
   "source": [
    "* In Japanese\n",
    "\n",
    "```\n",
    "アップロードしたCSVファイルを折れ線グラフで可視化してください．仕様は以下の通りです．\n",
    "* modelごとに系列を分けてください\n",
    "* num_shotsをX軸，accuracyをY軸にしてください\n",
    "* accuracyの標準偏差をエラーバーにしてください\n",
    "```\n",
    "\n",
    "* In English\n",
    "\n",
    "```\n",
    "Create a line chart from the uploaded CSV file using the following specifications:\n",
    "* Plot separate series for each model.\n",
    "* Use 'num_shots' as the X-axis and 'accuracy' as the Y-axis.\n",
    "* Include the standard deviation of accuracy as an error bar.\n",
    "```"
   ]
  },
  {
   "cell_type": "code",
   "execution_count": null,
   "id": "following-citizenship",
   "metadata": {},
   "outputs": [],
   "source": []
  },
  {
   "cell_type": "markdown",
   "id": "individual-stroke",
   "metadata": {},
   "source": [
    "## Actual dialogue with ChatGPT\n",
    "* [Click here](https://chat.openai.com/share/85395970-e88d-4518-96e2-e22f36dac7d6)"
   ]
  },
  {
   "cell_type": "code",
   "execution_count": null,
   "id": "declared-crawford",
   "metadata": {},
   "outputs": [],
   "source": []
  },
  {
   "cell_type": "markdown",
   "id": "proved-absence",
   "metadata": {},
   "source": [
    "## Generated code by ChatGPT"
   ]
  },
  {
   "cell_type": "code",
   "execution_count": 8,
   "id": "small-portsmouth",
   "metadata": {},
   "outputs": [
    {
     "data": {
      "image/png": "[encoded data removed]",
      "text/plain": [
       "<Figure size 864x576 with 1 Axes>"
      ]
     },
     "metadata": {
      "needs_background": "light"
     },
     "output_type": "display_data"
    }
   ],
   "source": [
    "import matplotlib.pyplot as plt\n",
    "import seaborn as sns\n",
    "\n",
    "# Grouping the data by 'model' and 'num_shots', and calculating mean and standard deviation of 'accuracy'\n",
    "grouped_data = data.groupby(['model', 'num_shots'])['accuracy'].agg(['mean', 'std']).reset_index()\n",
    "\n",
    "# Plotting the data\n",
    "plt.figure(figsize=(12, 8))\n",
    "sns.set_style(\"whitegrid\")\n",
    "\n",
    "# Plotting each model's mean accuracy with error bars representing the standard deviation\n",
    "for model in grouped_data['model'].unique():\n",
    "    model_data = grouped_data[grouped_data['model'] == model]\n",
    "    plt.errorbar(model_data['num_shots'], model_data['mean'], yerr=model_data['std'], label=model, capsize=5)\n",
    "\n",
    "plt.xlabel('Number of Shots')\n",
    "plt.ylabel('Accuracy')\n",
    "plt.title('Accuracy vs Number of Shots for Different Models')\n",
    "plt.legend(title='Model')\n",
    "plt.show()"
   ]
  },
  {
   "cell_type": "code",
   "execution_count": null,
   "id": "secret-looking",
   "metadata": {},
   "outputs": [],
   "source": []
  }
 ],
 "metadata": {
  "kernelspec": {
   "display_name": "Anaconda3 2022.05",
   "language": "python",
   "name": "anaconda3-2022.05"
  },
  "language_info": {
   "codemirror_mode": {
    "name": "ipython",
    "version": 3
   },
   "file_extension": ".py",
   "mimetype": "text/x-python",
   "name": "python",
   "nbconvert_exporter": "python",
   "pygments_lexer": "ipython3",
   "version": "3.9.12"
  }
 },
 "nbformat": 4,
 "nbformat_minor": 5
}
