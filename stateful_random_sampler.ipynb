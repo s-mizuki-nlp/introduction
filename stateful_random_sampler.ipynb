{
 "cells": [
  {
   "cell_type": "markdown",
   "metadata": {},
   "source": [
    "# StatefulなRandomSamplerクラス\n",
    "* Epoch途中の任意のバッチから再開する機能を持つRandomSamplerクラス．\n",
    "* generatorのstateおよび最後に出力したsample indexを記憶することで実現している．\n",
    "* 任意のDatasetおよびDataLoaderと組み合わせて使用できる．"
   ]
  },
  {
   "cell_type": "code",
   "execution_count": null,
   "metadata": {},
   "outputs": [],
   "source": []
  },
  {
   "cell_type": "code",
   "execution_count": 1,
   "metadata": {},
   "outputs": [],
   "source": [
    "import torch"
   ]
  },
  {
   "cell_type": "code",
   "execution_count": 1,
   "metadata": {},
   "outputs": [],
   "source": [
    "from typing import Iterator, Iterable, Optional, Sequence, List, TypeVar, Generic, Sized, Union\n",
    "from torch.utils.data.sampler import RandomSampler\n",
    "\n",
    "class ContinuableRandomSampler(RandomSampler):\n",
    "    \n",
    "    def __init__(self, data_source: Sized, replacement: bool = False,\n",
    "                 num_samples: Optional[int] = None, \n",
    "                 resume_index: int = None, generator_state=None):\n",
    "        generator = torch.Generator()\n",
    "        if generator_state is not None:\n",
    "            generator.set_state(generator_state)\n",
    "        else:\n",
    "            pass\n",
    "        super().__init__(data_source, replacement, num_samples, generator)\n",
    "        self.resume_index = resume_index\n",
    "        \n",
    "    def __iter__(self) -> Iterator[int]:\n",
    "        # get the RNG state before executing random permutation\n",
    "        self.generator_state = self.generator.get_state()\n",
    "        \n",
    "        lst_sample_indices = super().__iter__()\n",
    "        continue_flag = False if self.resume_index is None else True\n",
    "        for sample_idx in lst_sample_indices:\n",
    "            if continue_flag:\n",
    "                if sample_idx != self.resume_index:\n",
    "                    continue\n",
    "                else:\n",
    "                    continue_flag = False\n",
    "                    continue\n",
    "\n",
    "            self.resume_index = sample_idx\n",
    "            yield sample_idx\n",
    "        \n",
    "        # forget resume index because we don't need it anymore.\n",
    "        self.resume_index = None           \n",
    "           \n",
    "    def get_resume_index(self):\n",
    "        return self.resume_index\n",
    "    \n",
    "    def get_generator_state(self):\n",
    "        return self.generator_state"
   ]
  },
  {
   "cell_type": "code",
   "execution_count": null,
   "metadata": {},
   "outputs": [],
   "source": []
  },
  {
   "cell_type": "markdown",
   "metadata": {},
   "source": [
    "## 動作デモ"
   ]
  },
  {
   "cell_type": "code",
   "execution_count": null,
   "metadata": {},
   "outputs": [],
   "source": []
  },
  {
   "cell_type": "markdown",
   "metadata": {},
   "source": [
    "* ToyDataset: lowからhighまでの値を返すDatasetクラス"
   ]
  },
  {
   "cell_type": "code",
   "execution_count": 5,
   "metadata": {},
   "outputs": [],
   "source": [
    "from torch.utils.data import Dataset\n",
    "\n",
    "class ToyDataset(Dataset):\n",
    "    def __init__(self, low, high):\n",
    "        self.samples = list(range(low, high))\n",
    "\n",
    "    def __len__(self):\n",
    "        return len(self.samples)\n",
    "\n",
    "    def __getitem__(self, idx):\n",
    "        return self.samples[idx]"
   ]
  },
  {
   "cell_type": "code",
   "execution_count": null,
   "metadata": {},
   "outputs": [],
   "source": []
  },
  {
   "cell_type": "markdown",
   "metadata": {},
   "source": [
    "### 初回の実行\n",
    "* ContinuableRandomSampler() をインスタンス化して DataLoader() の sampler に引き渡す"
   ]
  },
  {
   "cell_type": "code",
   "execution_count": 6,
   "metadata": {},
   "outputs": [],
   "source": [
    "from torch.utils.data import DataLoader"
   ]
  },
  {
   "cell_type": "code",
   "execution_count": 7,
   "metadata": {},
   "outputs": [],
   "source": [
    "dataset = ToyDataset(low=10, high=30)\n",
    "sampler = ContinuableRandomSampler(dataset)\n",
    "data_loader = DataLoader(dataset=dataset, batch_size=4, sampler=sampler)"
   ]
  },
  {
   "cell_type": "markdown",
   "metadata": {},
   "source": [
    "* 仮に batch index=1 から再開したいとしよう．\n",
    "* 再開したいところで resume_index と generator_state を保存する"
   ]
  },
  {
   "cell_type": "code",
   "execution_count": 8,
   "metadata": {},
   "outputs": [
    {
     "name": "stdout",
     "output_type": "stream",
     "text": [
      "tensor([20, 10, 23, 28])\n",
      "tensor([27, 29, 13, 11])\n",
      "batch idx: 1, ここから再開できます\n",
      "tensor([25, 16, 26, 18])\n",
      "tensor([15, 21, 24, 17])\n",
      "tensor([19, 12, 14, 22])\n"
     ]
    }
   ],
   "source": [
    "for idx, batch in enumerate(data_loader):\n",
    "    print(batch)\n",
    "    if idx == 1:\n",
    "        resume_index = data_loader.sampler.get_resume_index()\n",
    "        generator_state = data_loader.sampler.get_generator_state()\n",
    "        print(f\"batch idx: {idx}, ここから再開できます\")"
   ]
  },
  {
   "cell_type": "code",
   "execution_count": 9,
   "metadata": {},
   "outputs": [],
   "source": [
    "del sampler\n",
    "del dataset\n",
    "del data_loader"
   ]
  },
  {
   "cell_type": "code",
   "execution_count": null,
   "metadata": {},
   "outputs": [],
   "source": []
  },
  {
   "cell_type": "markdown",
   "metadata": {},
   "source": [
    "### やめたところから再開\n",
    "* ContinuableRandomSampler() に，保存しておいた resume_index と generator_state を渡す．"
   ]
  },
  {
   "cell_type": "code",
   "execution_count": 10,
   "metadata": {},
   "outputs": [],
   "source": [
    "dataset = ToyDataset(low=10, high=30)\n",
    "sampler = ContinuableRandomSampler(dataset, resume_index=resume_index, generator_state=generator_state)\n",
    "data_loader = DataLoader(dataset=dataset, batch_size=4, sampler=sampler)"
   ]
  },
  {
   "cell_type": "code",
   "execution_count": 11,
   "metadata": {},
   "outputs": [
    {
     "name": "stdout",
     "output_type": "stream",
     "text": [
      "tensor([25, 16, 26, 18])\n",
      "tensor([15, 21, 24, 17])\n",
      "tensor([19, 12, 14, 22])\n"
     ]
    }
   ],
   "source": [
    "for idx, batch in enumerate(data_loader):\n",
    "    print(batch)"
   ]
  },
  {
   "cell_type": "code",
   "execution_count": null,
   "metadata": {},
   "outputs": [],
   "source": []
  }
 ],
 "metadata": {
  "kernelspec": {
   "display_name": "PyTorch 1.8.1",
   "language": "python",
   "name": "pytorch-1.8.1"
  },
  "language_info": {
   "codemirror_mode": {
    "name": "ipython",
    "version": 3
   },
   "file_extension": ".py",
   "mimetype": "text/x-python",
   "name": "python",
   "nbconvert_exporter": "python",
   "pygments_lexer": "ipython3",
   "version": "3.8.12"
  }
 },
 "nbformat": 4,
 "nbformat_minor": 4
}
